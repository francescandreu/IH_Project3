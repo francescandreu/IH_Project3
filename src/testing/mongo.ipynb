{
 "cells": [
  {
   "cell_type": "code",
   "execution_count": 1,
   "metadata": {},
   "outputs": [],
   "source": [
    "import os\n",
    "import requests\n",
    "import json\n",
    "import numpy as np\n",
    "from dotenv import load_dotenv\n",
    "import pandas as pd\n",
    "import geopandas as gpd\n",
    "from cartoframes.viz import Map, Layer, popup_element\n",
    "\n",
    "from pymongo import MongoClient\n",
    "import time\n",
    "\n",
    "import foursquare as fs"
   ]
  },
  {
   "cell_type": "code",
   "execution_count": 2,
   "metadata": {},
   "outputs": [],
   "source": [
    "client = MongoClient(\"localhost:27017\")\n",
    "db = client[\"Ironhack\"]\n",
    "c = db.get_collection(\"companies\")"
   ]
  },
  {
   "cell_type": "code",
   "execution_count": 3,
   "metadata": {},
   "outputs": [],
   "source": [
    "def getCompanies_TagCityCountry(tag, country, city):\n",
    "    filter_ = {'tag_list':{'$regex':tag}, 'offices.city':city, 'offices.country_code':country}\n",
    "    projection = {'name':1, '_id':0}\n",
    "    result = list(c.find(filter_, projection))\n",
    "    return result"
   ]
  },
  {
   "cell_type": "code",
   "execution_count": 4,
   "metadata": {},
   "outputs": [],
   "source": [
    "def getCompaniesAndLocation(category):\n",
    "    filter_ = {\"category_code\":category}\n",
    "    projection = {'category_code':1, 'name':1, 'offices.city':1, 'offices.country_code':1, 'offices.latitude':1, 'offices.longitude':1, '_id':0}\n",
    "    result = list(c.find(filter_, projection))\n",
    "    return result"
   ]
  },
  {
   "cell_type": "code",
   "execution_count": 5,
   "metadata": {},
   "outputs": [],
   "source": [
    "def unflatten_result(result):\n",
    "    companies = []\n",
    "    for company in result:\n",
    "        aux = []\n",
    "        name = company['name']\n",
    "        location = [value for element in list(company['offices']) for key,value in element.items()]\n",
    "        location.insert(0,name)\n",
    "        companies.append(location[:5])\n",
    "    return companies"
   ]
  },
  {
   "cell_type": "code",
   "execution_count": 6,
   "metadata": {},
   "outputs": [],
   "source": [
    "def getTopCountry(base_df):\n",
    "    countriesOrdered = base_df.groupby('Country').count()\n",
    "    return countriesOrdered.sort_values(by=['Company'], ascending=False).index[0]"
   ]
  },
  {
   "cell_type": "code",
   "execution_count": 7,
   "metadata": {},
   "outputs": [],
   "source": [
    "def getTop3Cities(base_df, country):\n",
    "    df_topCountry = base_df.loc[base_df['Country']==country]\n",
    "    df_topCountry = df_topCountry.sort_values(by=['City']).replace(to_replace='None', value=np.nan).dropna()\n",
    "    return list(df_topCountry.groupby('City').count().sort_values(by=['Company'], ascending=False).index[:3])   "
   ]
  },
  {
   "cell_type": "code",
   "execution_count": 8,
   "metadata": {},
   "outputs": [],
   "source": [
    "def buildTopCitiesDF(base_df, country, cities):\n",
    "    df = base_df.loc[(base_df['Country']==country) &\n",
    "                 ((base_df['City']==cities[0]) | (base_df['City']==cities[1]) | (base_df['City']==cities[2]))]\n",
    "    return df.sort_values(by=['City'])"
   ]
  },
  {
   "cell_type": "code",
   "execution_count": null,
   "metadata": {},
   "outputs": [],
   "source": []
  }
 ],
 "metadata": {
  "kernelspec": {
   "display_name": "Python 3.9.13 ('Ironhack')",
   "language": "python",
   "name": "python3"
  },
  "language_info": {
   "codemirror_mode": {
    "name": "ipython",
    "version": 3
   },
   "file_extension": ".py",
   "mimetype": "text/x-python",
   "name": "python",
   "nbconvert_exporter": "python",
   "pygments_lexer": "ipython3",
   "version": "3.9.13"
  },
  "orig_nbformat": 4,
  "vscode": {
   "interpreter": {
    "hash": "9b18603bc994250422e49e22e4537a66eb59e0e9932322e196d88f02f10586ad"
   }
  }
 },
 "nbformat": 4,
 "nbformat_minor": 2
}
